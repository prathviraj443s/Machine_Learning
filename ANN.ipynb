{
  "nbformat": 4,
  "nbformat_minor": 0,
  "metadata": {
    "colab": {
      "provenance": [],
      "include_colab_link": true
    },
    "kernelspec": {
      "name": "python3",
      "display_name": "Python 3"
    },
    "language_info": {
      "name": "python"
    }
  },
  "cells": [
    {
      "cell_type": "markdown",
      "metadata": {
        "id": "view-in-github",
        "colab_type": "text"
      },
      "source": [
        "<a href=\"https://colab.research.google.com/github/prathviraj443s/Machine_Learning/blob/main/ANN.ipynb\" target=\"_parent\"><img src=\"https://colab.research.google.com/assets/colab-badge.svg\" alt=\"Open In Colab\"/></a>"
      ]
    },
    {
      "cell_type": "markdown",
      "source": [
        "This code loads the MNIST dataset, a collection of handwritten digit images, and their corresponding labels, split into training and test sets. It sets up variables for images and labels for both training and testing purposes.\n",
        "\n",
        "\n",
        "\n",
        "\n",
        "\n"
      ],
      "metadata": {
        "id": "wlnFdi-dqNf_"
      }
    },
    {
      "cell_type": "code",
      "source": [
        "from keras.datasets import mnist\n",
        "(train_images, train_labels), (test_images, test_labels) = mnist.load_data()\n"
      ],
      "metadata": {
        "id": "S-tVYhz9oJjn",
        "outputId": "d742cd6f-c277-445a-939f-2b7b042660a3",
        "colab": {
          "base_uri": "https://localhost:8080/"
        }
      },
      "execution_count": null,
      "outputs": [
        {
          "output_type": "stream",
          "name": "stdout",
          "text": [
            "Downloading data from https://storage.googleapis.com/tensorflow/tf-keras-datasets/mnist.npz\n",
            "11490434/11490434 [==============================] - 0s 0us/step\n"
          ]
        }
      ]
    },
    {
      "cell_type": "markdown",
      "source": [
        "These lines inspect the dimensions and sizes of the training and test datasets, displaying the shapes of the image arrays and the lengths of their associated label arrays.\n",
        "\n",
        "\n",
        "\n",
        "\n",
        "\n"
      ],
      "metadata": {
        "id": "PWKd8z9dkUJn"
      }
    },
    {
      "cell_type": "code",
      "source": [
        "train_images.shape\n",
        "len(train_labels)\n",
        "train_labels\n",
        "test_images.shape\n",
        "len(test_labels)\n",
        "test_labels\n"
      ],
      "metadata": {
        "id": "W5lXpBuzoTwx",
        "outputId": "df4b6c00-1486-47bd-f085-e204e559d44b",
        "colab": {
          "base_uri": "https://localhost:8080/"
        }
      },
      "execution_count": null,
      "outputs": [
        {
          "output_type": "execute_result",
          "data": {
            "text/plain": [
              "array([7, 2, 1, ..., 4, 5, 6], dtype=uint8)"
            ]
          },
          "metadata": {},
          "execution_count": 2
        }
      ]
    },
    {
      "cell_type": "markdown",
      "source": [
        "The network architecture"
      ],
      "metadata": {
        "id": "lY9QnJc8oW98"
      }
    },
    {
      "cell_type": "markdown",
      "source": [
        "This code snippet defines a neural network architecture with multiple layers using Keras, employing sigmoid activation functions for hidden layers and softmax for the output layer. It then mounts Google Drive for file access within the Google Colab environment.\n",
        "\n",
        "\n",
        "\n",
        "\n",
        "\n"
      ],
      "metadata": {
        "id": "NDtUmh5Eko4L"
      }
    },
    {
      "cell_type": "code",
      "source": [
        "from keras import models\n",
        "from keras import layers\n",
        "network = models.Sequential()\n",
        "# Dense(32) is a fully-connected layer with 32 hidden units.\n",
        "# in the first layer, you must specify the expected input data shape :\n",
        "# here, 28 X 28=784 -dimensional vectors.\n",
        "network.add(layers.Dense(32, activation='sigmoid', input_shape=(28 * 28, )))\n",
        "network.add(layers.Dense(8, activation='sigmoid'))\n",
        "network.add(layers.Dense(10, activation='softmax'))\n",
        "network.summary()\n",
        "from google.colab import drive\n",
        "drive.mount('/content/drive')\n"
      ],
      "metadata": {
        "colab": {
          "base_uri": "https://localhost:8080/"
        },
        "id": "bDQ0ElvPoZH6",
        "outputId": "f4b875c5-a2f4-44b5-a63f-1a3a300f994a"
      },
      "execution_count": null,
      "outputs": [
        {
          "output_type": "stream",
          "name": "stdout",
          "text": [
            "Model: \"sequential\"\n",
            "_________________________________________________________________\n",
            " Layer (type)                Output Shape              Param #   \n",
            "=================================================================\n",
            " dense (Dense)               (None, 32)                25120     \n",
            "                                                                 \n",
            " dense_1 (Dense)             (None, 8)                 264       \n",
            "                                                                 \n",
            " dense_2 (Dense)             (None, 10)                90        \n",
            "                                                                 \n",
            "=================================================================\n",
            "Total params: 25474 (99.51 KB)\n",
            "Trainable params: 25474 (99.51 KB)\n",
            "Non-trainable params: 0 (0.00 Byte)\n",
            "_________________________________________________________________\n",
            "Mounted at /content/drive\n"
          ]
        }
      ]
    },
    {
      "cell_type": "markdown",
      "source": [
        "The compilation step"
      ],
      "metadata": {
        "id": "U7I7xhQjoeWH"
      }
    },
    {
      "cell_type": "markdown",
      "source": [
        "This code compiles the defined neural network model, specifying the optimizer (Stochastic Gradient Descent), loss function (categorical cross-entropy), and evaluation metric (accuracy) to be used during training."
      ],
      "metadata": {
        "id": "t_yTSVAHk5zU"
      }
    },
    {
      "cell_type": "code",
      "source": [
        "network.compile(optimizer='sgd',\n",
        "                loss='categorical_crossentropy',\n",
        "                metrics=['accuracy'])"
      ],
      "metadata": {
        "id": "_AkirVt0oe6B"
      },
      "execution_count": null,
      "outputs": []
    },
    {
      "cell_type": "markdown",
      "source": [
        "Preparing the image data"
      ],
      "metadata": {
        "id": "Frz-vGxWogvz"
      }
    },
    {
      "cell_type": "markdown",
      "source": [
        "This code preprocesses the image data by reshaping the arrays to flatten them into 1D vectors, normalizing pixel values to the range [0, 1] by dividing by 255, and converting the data type to float32 for both training and testing images.\n",
        "\n",
        "\n",
        "\n",
        "\n",
        "\n"
      ],
      "metadata": {
        "id": "bVdxcbCqlJ9d"
      }
    },
    {
      "cell_type": "code",
      "source": [
        "train_images = train_images.reshape((60000, 28 * 28))\n",
        "train_images = train_images.astype('float32') / 255.\n",
        "test_images = test_images.reshape((10000, 28 * 28))\n",
        "test_images = test_images.astype('float32') / 255."
      ],
      "metadata": {
        "id": "0LwIHz42oi7A"
      },
      "execution_count": null,
      "outputs": []
    },
    {
      "cell_type": "markdown",
      "source": [
        "Preparing the labels"
      ],
      "metadata": {
        "id": "xa8dldHFonMc"
      }
    },
    {
      "cell_type": "markdown",
      "source": [
        "This code converts the categorical labels into one-hot encoded vectors for both the training and testing datasets using the to_categorical function from Keras utils module. The resulting labels are displayed, showing the transformation into a binary matrix format."
      ],
      "metadata": {
        "id": "Wh2ajCvclSwJ"
      }
    },
    {
      "cell_type": "code",
      "source": [
        "from keras.utils import to_categorical\n",
        "train_labels = to_categorical(train_labels)\n",
        "train_labels\n",
        "test_labels = to_categorical(test_labels)\n",
        "test_labels\n"
      ],
      "metadata": {
        "colab": {
          "base_uri": "https://localhost:8080/"
        },
        "id": "C7cSamqnoprH",
        "outputId": "63a11bf8-e487-4191-9a04-b79ab326aeb5"
      },
      "execution_count": null,
      "outputs": [
        {
          "output_type": "execute_result",
          "data": {
            "text/plain": [
              "array([[0., 0., 0., ..., 1., 0., 0.],\n",
              "       [0., 0., 1., ..., 0., 0., 0.],\n",
              "       [0., 1., 0., ..., 0., 0., 0.],\n",
              "       ...,\n",
              "       [0., 0., 0., ..., 0., 0., 0.],\n",
              "       [0., 0., 0., ..., 0., 0., 0.],\n",
              "       [0., 0., 0., ..., 0., 0., 0.]], dtype=float32)"
            ]
          },
          "metadata": {},
          "execution_count": 6
        }
      ]
    },
    {
      "cell_type": "markdown",
      "source": [
        "Training and Testing"
      ],
      "metadata": {
        "id": "MdyP_vQyossQ"
      }
    },
    {
      "cell_type": "markdown",
      "source": [],
      "metadata": {
        "id": "1ffTeqRLla4j"
      }
    },
    {
      "cell_type": "code",
      "source": [
        "network.fit(train_images, train_labels, epochs=160, batch_size=512)"
      ],
      "metadata": {
        "colab": {
          "base_uri": "https://localhost:8080/"
        },
        "id": "xyUWJqXrouuJ",
        "outputId": "3668d2a3-3a5f-4d27-fb51-20d1b29417f9"
      },
      "execution_count": null,
      "outputs": [
        {
          "output_type": "stream",
          "name": "stdout",
          "text": [
            "Epoch 1/160\n",
            "118/118 [==============================] - 1s 4ms/step - loss: 2.3788 - accuracy: 0.1044\n",
            "Epoch 2/160\n",
            "118/118 [==============================] - 0s 4ms/step - loss: 2.3375 - accuracy: 0.1040\n",
            "Epoch 3/160\n",
            "118/118 [==============================] - 0s 4ms/step - loss: 2.3155 - accuracy: 0.1057\n",
            "Epoch 4/160\n",
            "118/118 [==============================] - 0s 4ms/step - loss: 2.3024 - accuracy: 0.1141\n",
            "Epoch 5/160\n",
            "118/118 [==============================] - 0s 4ms/step - loss: 2.2938 - accuracy: 0.1290\n",
            "Epoch 6/160\n",
            "118/118 [==============================] - 0s 4ms/step - loss: 2.2873 - accuracy: 0.1369\n",
            "Epoch 7/160\n",
            "118/118 [==============================] - 0s 4ms/step - loss: 2.2819 - accuracy: 0.1698\n",
            "Epoch 8/160\n",
            "118/118 [==============================] - 0s 4ms/step - loss: 2.2770 - accuracy: 0.1852\n",
            "Epoch 9/160\n",
            "118/118 [==============================] - 0s 4ms/step - loss: 2.2722 - accuracy: 0.1663\n",
            "Epoch 10/160\n",
            "118/118 [==============================] - 0s 4ms/step - loss: 2.2673 - accuracy: 0.1551\n",
            "Epoch 11/160\n",
            "118/118 [==============================] - 0s 4ms/step - loss: 2.2622 - accuracy: 0.1604\n",
            "Epoch 12/160\n",
            "118/118 [==============================] - 0s 4ms/step - loss: 2.2569 - accuracy: 0.1866\n",
            "Epoch 13/160\n",
            "118/118 [==============================] - 0s 4ms/step - loss: 2.2513 - accuracy: 0.2088\n",
            "Epoch 14/160\n",
            "118/118 [==============================] - 0s 4ms/step - loss: 2.2452 - accuracy: 0.2330\n",
            "Epoch 15/160\n",
            "118/118 [==============================] - 1s 6ms/step - loss: 2.2387 - accuracy: 0.2548\n",
            "Epoch 16/160\n",
            "118/118 [==============================] - 1s 6ms/step - loss: 2.2316 - accuracy: 0.2853\n",
            "Epoch 17/160\n",
            "118/118 [==============================] - 1s 6ms/step - loss: 2.2240 - accuracy: 0.3034\n",
            "Epoch 18/160\n",
            "118/118 [==============================] - 1s 6ms/step - loss: 2.2158 - accuracy: 0.3288\n",
            "Epoch 19/160\n",
            "118/118 [==============================] - 1s 6ms/step - loss: 2.2069 - accuracy: 0.3497\n",
            "Epoch 20/160\n",
            "118/118 [==============================] - 1s 5ms/step - loss: 2.1973 - accuracy: 0.3678\n",
            "Epoch 21/160\n",
            "118/118 [==============================] - 0s 4ms/step - loss: 2.1870 - accuracy: 0.3892\n",
            "Epoch 22/160\n",
            "118/118 [==============================] - 0s 4ms/step - loss: 2.1759 - accuracy: 0.4110\n",
            "Epoch 23/160\n",
            "118/118 [==============================] - 0s 4ms/step - loss: 2.1639 - accuracy: 0.4271\n",
            "Epoch 24/160\n",
            "118/118 [==============================] - 0s 4ms/step - loss: 2.1511 - accuracy: 0.4454\n",
            "Epoch 25/160\n",
            "118/118 [==============================] - 0s 4ms/step - loss: 2.1374 - accuracy: 0.4661\n",
            "Epoch 26/160\n",
            "118/118 [==============================] - 0s 4ms/step - loss: 2.1228 - accuracy: 0.4799\n",
            "Epoch 27/160\n",
            "118/118 [==============================] - 0s 4ms/step - loss: 2.1072 - accuracy: 0.5015\n",
            "Epoch 28/160\n",
            "118/118 [==============================] - 0s 4ms/step - loss: 2.0907 - accuracy: 0.5153\n",
            "Epoch 29/160\n",
            "118/118 [==============================] - 0s 4ms/step - loss: 2.0732 - accuracy: 0.5281\n",
            "Epoch 30/160\n",
            "118/118 [==============================] - 1s 5ms/step - loss: 2.0549 - accuracy: 0.5399\n",
            "Epoch 31/160\n",
            "118/118 [==============================] - 1s 5ms/step - loss: 2.0356 - accuracy: 0.5523\n",
            "Epoch 32/160\n",
            "118/118 [==============================] - 0s 4ms/step - loss: 2.0156 - accuracy: 0.5612\n",
            "Epoch 33/160\n",
            "118/118 [==============================] - 0s 4ms/step - loss: 1.9947 - accuracy: 0.5662\n",
            "Epoch 34/160\n",
            "118/118 [==============================] - 0s 4ms/step - loss: 1.9732 - accuracy: 0.5721\n",
            "Epoch 35/160\n",
            "118/118 [==============================] - 0s 4ms/step - loss: 1.9510 - accuracy: 0.5777\n",
            "Epoch 36/160\n",
            "118/118 [==============================] - 0s 4ms/step - loss: 1.9284 - accuracy: 0.5833\n",
            "Epoch 37/160\n",
            "118/118 [==============================] - 0s 4ms/step - loss: 1.9053 - accuracy: 0.5859\n",
            "Epoch 38/160\n",
            "118/118 [==============================] - 0s 4ms/step - loss: 1.8819 - accuracy: 0.5898\n",
            "Epoch 39/160\n",
            "118/118 [==============================] - 0s 4ms/step - loss: 1.8583 - accuracy: 0.5926\n",
            "Epoch 40/160\n",
            "118/118 [==============================] - 0s 4ms/step - loss: 1.8345 - accuracy: 0.5961\n",
            "Epoch 41/160\n",
            "118/118 [==============================] - 1s 5ms/step - loss: 1.8108 - accuracy: 0.5993\n",
            "Epoch 42/160\n",
            "118/118 [==============================] - 1s 6ms/step - loss: 1.7870 - accuracy: 0.6016\n",
            "Epoch 43/160\n",
            "118/118 [==============================] - 1s 6ms/step - loss: 1.7633 - accuracy: 0.6050\n",
            "Epoch 44/160\n",
            "118/118 [==============================] - 1s 6ms/step - loss: 1.7399 - accuracy: 0.6074\n",
            "Epoch 45/160\n",
            "118/118 [==============================] - 1s 6ms/step - loss: 1.7166 - accuracy: 0.6088\n",
            "Epoch 46/160\n",
            "118/118 [==============================] - 1s 6ms/step - loss: 1.6936 - accuracy: 0.6117\n",
            "Epoch 47/160\n",
            "118/118 [==============================] - 1s 5ms/step - loss: 1.6709 - accuracy: 0.6146\n",
            "Epoch 48/160\n",
            "118/118 [==============================] - 0s 4ms/step - loss: 1.6485 - accuracy: 0.6175\n",
            "Epoch 49/160\n",
            "118/118 [==============================] - 0s 4ms/step - loss: 1.6264 - accuracy: 0.6203\n",
            "Epoch 50/160\n",
            "118/118 [==============================] - 0s 4ms/step - loss: 1.6047 - accuracy: 0.6231\n",
            "Epoch 51/160\n",
            "118/118 [==============================] - 0s 4ms/step - loss: 1.5834 - accuracy: 0.6270\n",
            "Epoch 52/160\n",
            "118/118 [==============================] - 0s 4ms/step - loss: 1.5624 - accuracy: 0.6293\n",
            "Epoch 53/160\n",
            "118/118 [==============================] - 0s 4ms/step - loss: 1.5419 - accuracy: 0.6327\n",
            "Epoch 54/160\n",
            "118/118 [==============================] - 1s 6ms/step - loss: 1.5217 - accuracy: 0.6358\n",
            "Epoch 55/160\n",
            "118/118 [==============================] - 1s 4ms/step - loss: 1.5020 - accuracy: 0.6389\n",
            "Epoch 56/160\n",
            "118/118 [==============================] - 1s 6ms/step - loss: 1.4826 - accuracy: 0.6411\n",
            "Epoch 57/160\n",
            "118/118 [==============================] - 1s 5ms/step - loss: 1.4637 - accuracy: 0.6446\n",
            "Epoch 58/160\n",
            "118/118 [==============================] - 1s 5ms/step - loss: 1.4452 - accuracy: 0.6476\n",
            "Epoch 59/160\n",
            "118/118 [==============================] - 0s 4ms/step - loss: 1.4272 - accuracy: 0.6503\n",
            "Epoch 60/160\n",
            "118/118 [==============================] - 0s 4ms/step - loss: 1.4095 - accuracy: 0.6535\n",
            "Epoch 61/160\n",
            "118/118 [==============================] - 0s 4ms/step - loss: 1.3923 - accuracy: 0.6562\n",
            "Epoch 62/160\n",
            "118/118 [==============================] - 1s 4ms/step - loss: 1.3755 - accuracy: 0.6592\n",
            "Epoch 63/160\n",
            "118/118 [==============================] - 0s 4ms/step - loss: 1.3591 - accuracy: 0.6622\n",
            "Epoch 64/160\n",
            "118/118 [==============================] - 0s 4ms/step - loss: 1.3431 - accuracy: 0.6653\n",
            "Epoch 65/160\n",
            "118/118 [==============================] - 0s 4ms/step - loss: 1.3275 - accuracy: 0.6683\n",
            "Epoch 66/160\n",
            "118/118 [==============================] - 1s 5ms/step - loss: 1.3123 - accuracy: 0.6708\n",
            "Epoch 67/160\n",
            "118/118 [==============================] - 1s 6ms/step - loss: 1.2974 - accuracy: 0.6740\n",
            "Epoch 68/160\n",
            "118/118 [==============================] - 1s 7ms/step - loss: 1.2830 - accuracy: 0.6760\n",
            "Epoch 69/160\n",
            "118/118 [==============================] - 1s 6ms/step - loss: 1.2689 - accuracy: 0.6787\n",
            "Epoch 70/160\n",
            "118/118 [==============================] - 1s 7ms/step - loss: 1.2551 - accuracy: 0.6810\n",
            "Epoch 71/160\n",
            "118/118 [==============================] - 1s 7ms/step - loss: 1.2418 - accuracy: 0.6835\n",
            "Epoch 72/160\n",
            "118/118 [==============================] - 0s 4ms/step - loss: 1.2287 - accuracy: 0.6863\n",
            "Epoch 73/160\n",
            "118/118 [==============================] - 0s 4ms/step - loss: 1.2160 - accuracy: 0.6884\n",
            "Epoch 74/160\n",
            "118/118 [==============================] - 1s 4ms/step - loss: 1.2035 - accuracy: 0.6912\n",
            "Epoch 75/160\n",
            "118/118 [==============================] - 0s 4ms/step - loss: 1.1914 - accuracy: 0.6935\n",
            "Epoch 76/160\n",
            "118/118 [==============================] - 0s 4ms/step - loss: 1.1795 - accuracy: 0.6960\n",
            "Epoch 77/160\n",
            "118/118 [==============================] - 0s 4ms/step - loss: 1.1680 - accuracy: 0.6981\n",
            "Epoch 78/160\n",
            "118/118 [==============================] - 0s 4ms/step - loss: 1.1567 - accuracy: 0.7009\n",
            "Epoch 79/160\n",
            "118/118 [==============================] - 0s 4ms/step - loss: 1.1456 - accuracy: 0.7029\n",
            "Epoch 80/160\n",
            "118/118 [==============================] - 0s 4ms/step - loss: 1.1348 - accuracy: 0.7049\n",
            "Epoch 81/160\n",
            "118/118 [==============================] - 0s 4ms/step - loss: 1.1243 - accuracy: 0.7073\n",
            "Epoch 82/160\n",
            "118/118 [==============================] - 0s 4ms/step - loss: 1.1139 - accuracy: 0.7094\n",
            "Epoch 83/160\n",
            "118/118 [==============================] - 0s 4ms/step - loss: 1.1038 - accuracy: 0.7120\n",
            "Epoch 84/160\n",
            "118/118 [==============================] - 0s 4ms/step - loss: 1.0939 - accuracy: 0.7141\n",
            "Epoch 85/160\n",
            "118/118 [==============================] - 1s 4ms/step - loss: 1.0843 - accuracy: 0.7162\n",
            "Epoch 86/160\n",
            "118/118 [==============================] - 0s 4ms/step - loss: 1.0748 - accuracy: 0.7180\n",
            "Epoch 87/160\n",
            "118/118 [==============================] - 0s 4ms/step - loss: 1.0656 - accuracy: 0.7200\n",
            "Epoch 88/160\n",
            "118/118 [==============================] - 0s 4ms/step - loss: 1.0565 - accuracy: 0.7222\n",
            "Epoch 89/160\n",
            "118/118 [==============================] - 0s 4ms/step - loss: 1.0476 - accuracy: 0.7245\n",
            "Epoch 90/160\n",
            "118/118 [==============================] - 0s 4ms/step - loss: 1.0389 - accuracy: 0.7264\n",
            "Epoch 91/160\n",
            "118/118 [==============================] - 0s 4ms/step - loss: 1.0304 - accuracy: 0.7284\n",
            "Epoch 92/160\n",
            "118/118 [==============================] - 1s 5ms/step - loss: 1.0220 - accuracy: 0.7307\n",
            "Epoch 93/160\n",
            "118/118 [==============================] - 1s 6ms/step - loss: 1.0138 - accuracy: 0.7327\n",
            "Epoch 94/160\n",
            "118/118 [==============================] - 1s 6ms/step - loss: 1.0058 - accuracy: 0.7344\n",
            "Epoch 95/160\n",
            "118/118 [==============================] - 1s 6ms/step - loss: 0.9979 - accuracy: 0.7363\n",
            "Epoch 96/160\n",
            "118/118 [==============================] - 1s 6ms/step - loss: 0.9902 - accuracy: 0.7378\n",
            "Epoch 97/160\n",
            "118/118 [==============================] - 1s 7ms/step - loss: 0.9827 - accuracy: 0.7394\n",
            "Epoch 98/160\n",
            "118/118 [==============================] - 1s 5ms/step - loss: 0.9752 - accuracy: 0.7405\n",
            "Epoch 99/160\n",
            "118/118 [==============================] - 1s 4ms/step - loss: 0.9680 - accuracy: 0.7429\n",
            "Epoch 100/160\n",
            "118/118 [==============================] - 1s 4ms/step - loss: 0.9608 - accuracy: 0.7443\n",
            "Epoch 101/160\n",
            "118/118 [==============================] - 0s 4ms/step - loss: 0.9538 - accuracy: 0.7460\n",
            "Epoch 102/160\n",
            "118/118 [==============================] - 0s 4ms/step - loss: 0.9470 - accuracy: 0.7470\n",
            "Epoch 103/160\n",
            "118/118 [==============================] - 0s 4ms/step - loss: 0.9402 - accuracy: 0.7488\n",
            "Epoch 104/160\n",
            "118/118 [==============================] - 0s 4ms/step - loss: 0.9336 - accuracy: 0.7497\n",
            "Epoch 105/160\n",
            "118/118 [==============================] - 1s 4ms/step - loss: 0.9271 - accuracy: 0.7514\n",
            "Epoch 106/160\n",
            "118/118 [==============================] - 0s 4ms/step - loss: 0.9208 - accuracy: 0.7530\n",
            "Epoch 107/160\n",
            "118/118 [==============================] - 1s 4ms/step - loss: 0.9145 - accuracy: 0.7546\n",
            "Epoch 108/160\n",
            "118/118 [==============================] - 0s 4ms/step - loss: 0.9084 - accuracy: 0.7560\n",
            "Epoch 109/160\n",
            "118/118 [==============================] - 0s 4ms/step - loss: 0.9024 - accuracy: 0.7575\n",
            "Epoch 110/160\n",
            "118/118 [==============================] - 0s 4ms/step - loss: 0.8964 - accuracy: 0.7590\n",
            "Epoch 111/160\n",
            "118/118 [==============================] - 0s 4ms/step - loss: 0.8906 - accuracy: 0.7603\n",
            "Epoch 112/160\n",
            "118/118 [==============================] - 0s 4ms/step - loss: 0.8849 - accuracy: 0.7617\n",
            "Epoch 113/160\n",
            "118/118 [==============================] - 1s 4ms/step - loss: 0.8793 - accuracy: 0.7628\n",
            "Epoch 114/160\n",
            "118/118 [==============================] - 0s 4ms/step - loss: 0.8738 - accuracy: 0.7644\n",
            "Epoch 115/160\n",
            "118/118 [==============================] - 1s 4ms/step - loss: 0.8684 - accuracy: 0.7656\n",
            "Epoch 116/160\n",
            "118/118 [==============================] - 0s 4ms/step - loss: 0.8630 - accuracy: 0.7668\n",
            "Epoch 117/160\n",
            "118/118 [==============================] - 0s 4ms/step - loss: 0.8578 - accuracy: 0.7679\n",
            "Epoch 118/160\n",
            "118/118 [==============================] - 1s 5ms/step - loss: 0.8526 - accuracy: 0.7701\n",
            "Epoch 119/160\n",
            "118/118 [==============================] - 1s 6ms/step - loss: 0.8475 - accuracy: 0.7716\n",
            "Epoch 120/160\n",
            "118/118 [==============================] - 1s 7ms/step - loss: 0.8425 - accuracy: 0.7727\n",
            "Epoch 121/160\n",
            "118/118 [==============================] - 1s 7ms/step - loss: 0.8376 - accuracy: 0.7743\n",
            "Epoch 122/160\n",
            "118/118 [==============================] - 1s 7ms/step - loss: 0.8328 - accuracy: 0.7752\n",
            "Epoch 123/160\n",
            "118/118 [==============================] - 1s 6ms/step - loss: 0.8280 - accuracy: 0.7767\n",
            "Epoch 124/160\n",
            "118/118 [==============================] - 0s 4ms/step - loss: 0.8233 - accuracy: 0.7774\n",
            "Epoch 125/160\n",
            "118/118 [==============================] - 1s 4ms/step - loss: 0.8187 - accuracy: 0.7785\n",
            "Epoch 126/160\n",
            "118/118 [==============================] - 0s 4ms/step - loss: 0.8141 - accuracy: 0.7798\n",
            "Epoch 127/160\n",
            "118/118 [==============================] - 1s 4ms/step - loss: 0.8096 - accuracy: 0.7813\n",
            "Epoch 128/160\n",
            "118/118 [==============================] - 0s 4ms/step - loss: 0.8052 - accuracy: 0.7825\n",
            "Epoch 129/160\n",
            "118/118 [==============================] - 1s 4ms/step - loss: 0.8008 - accuracy: 0.7835\n",
            "Epoch 130/160\n",
            "118/118 [==============================] - 0s 4ms/step - loss: 0.7965 - accuracy: 0.7848\n",
            "Epoch 131/160\n",
            "118/118 [==============================] - 0s 4ms/step - loss: 0.7922 - accuracy: 0.7860\n",
            "Epoch 132/160\n",
            "118/118 [==============================] - 1s 7ms/step - loss: 0.7880 - accuracy: 0.7871\n",
            "Epoch 133/160\n",
            "118/118 [==============================] - 1s 5ms/step - loss: 0.7839 - accuracy: 0.7886\n",
            "Epoch 134/160\n",
            "118/118 [==============================] - 0s 4ms/step - loss: 0.7798 - accuracy: 0.7894\n",
            "Epoch 135/160\n",
            "118/118 [==============================] - 0s 4ms/step - loss: 0.7758 - accuracy: 0.7909\n",
            "Epoch 136/160\n",
            "118/118 [==============================] - 0s 4ms/step - loss: 0.7718 - accuracy: 0.7920\n",
            "Epoch 137/160\n",
            "118/118 [==============================] - 0s 4ms/step - loss: 0.7678 - accuracy: 0.7929\n",
            "Epoch 138/160\n",
            "118/118 [==============================] - 0s 4ms/step - loss: 0.7639 - accuracy: 0.7944\n",
            "Epoch 139/160\n",
            "118/118 [==============================] - 1s 4ms/step - loss: 0.7601 - accuracy: 0.7951\n",
            "Epoch 140/160\n",
            "118/118 [==============================] - 0s 4ms/step - loss: 0.7562 - accuracy: 0.7962\n",
            "Epoch 141/160\n",
            "118/118 [==============================] - 1s 4ms/step - loss: 0.7525 - accuracy: 0.7972\n",
            "Epoch 142/160\n",
            "118/118 [==============================] - 0s 4ms/step - loss: 0.7487 - accuracy: 0.7987\n",
            "Epoch 143/160\n",
            "118/118 [==============================] - 1s 6ms/step - loss: 0.7450 - accuracy: 0.7996\n",
            "Epoch 144/160\n",
            "118/118 [==============================] - 1s 7ms/step - loss: 0.7414 - accuracy: 0.8007\n",
            "Epoch 145/160\n",
            "118/118 [==============================] - 1s 7ms/step - loss: 0.7378 - accuracy: 0.8017\n",
            "Epoch 146/160\n",
            "118/118 [==============================] - 1s 6ms/step - loss: 0.7342 - accuracy: 0.8026\n",
            "Epoch 147/160\n",
            "118/118 [==============================] - 1s 6ms/step - loss: 0.7306 - accuracy: 0.8041\n",
            "Epoch 148/160\n",
            "118/118 [==============================] - 1s 6ms/step - loss: 0.7271 - accuracy: 0.8049\n",
            "Epoch 149/160\n",
            "118/118 [==============================] - 0s 4ms/step - loss: 0.7237 - accuracy: 0.8061\n",
            "Epoch 150/160\n",
            "118/118 [==============================] - 0s 4ms/step - loss: 0.7202 - accuracy: 0.8074\n",
            "Epoch 151/160\n",
            "118/118 [==============================] - 0s 4ms/step - loss: 0.7168 - accuracy: 0.8084\n",
            "Epoch 152/160\n",
            "118/118 [==============================] - 0s 4ms/step - loss: 0.7134 - accuracy: 0.8094\n",
            "Epoch 153/160\n",
            "118/118 [==============================] - 1s 4ms/step - loss: 0.7101 - accuracy: 0.8105\n",
            "Epoch 154/160\n",
            "118/118 [==============================] - 0s 4ms/step - loss: 0.7067 - accuracy: 0.8119\n",
            "Epoch 155/160\n",
            "118/118 [==============================] - 0s 4ms/step - loss: 0.7034 - accuracy: 0.8128\n",
            "Epoch 156/160\n",
            "118/118 [==============================] - 0s 4ms/step - loss: 0.7002 - accuracy: 0.8142\n",
            "Epoch 157/160\n",
            "118/118 [==============================] - 0s 4ms/step - loss: 0.6969 - accuracy: 0.8149\n",
            "Epoch 158/160\n",
            "118/118 [==============================] - 0s 4ms/step - loss: 0.6937 - accuracy: 0.8162\n",
            "Epoch 159/160\n",
            "118/118 [==============================] - 1s 4ms/step - loss: 0.6905 - accuracy: 0.8174\n",
            "Epoch 160/160\n",
            "118/118 [==============================] - 0s 4ms/step - loss: 0.6873 - accuracy: 0.8184\n"
          ]
        },
        {
          "output_type": "execute_result",
          "data": {
            "text/plain": [
              "<keras.src.callbacks.History at 0x79741ce2bd00>"
            ]
          },
          "metadata": {},
          "execution_count": 7
        }
      ]
    },
    {
      "cell_type": "markdown",
      "source": [
        "This code evaluates the trained neural network model on the test dataset, calculating the test loss and accuracy. The test accuracy is printed and displayed.\n",
        "\n",
        "\n",
        "\n",
        "\n",
        "\n"
      ],
      "metadata": {
        "id": "wb-rWnD7ldMM"
      }
    },
    {
      "cell_type": "code",
      "source": [
        "test_loss, test_acc = network.evaluate(test_images, test_labels)\n",
        "print('Test Accuracy: {:.5f} '.format(test_acc))\n",
        "test_acc"
      ],
      "metadata": {
        "colab": {
          "base_uri": "https://localhost:8080/"
        },
        "id": "lxgwEbxmozey",
        "outputId": "5af27f81-ee41-4741-ac5a-3577d3298eba"
      },
      "execution_count": null,
      "outputs": [
        {
          "output_type": "stream",
          "name": "stdout",
          "text": [
            "313/313 [==============================] - 1s 2ms/step - loss: 0.6710 - accuracy: 0.8276\n",
            "Test Accuracy: 0.82760 \n"
          ]
        },
        {
          "output_type": "execute_result",
          "data": {
            "text/plain": [
              "0.8276000022888184"
            ]
          },
          "metadata": {},
          "execution_count": 8
        }
      ]
    },
    {
      "cell_type": "markdown",
      "source": [
        "This code generates a visualization of the neural network model architecture and saves it as a PNG file named 'model.png'. It then trains the model using the training data, validating on a subset of the data. After training, it plots the training and validation accuracy as well as the training and validation loss over epochs, providing insights into the model's performance and potential overfitting.\n",
        "\n",
        "The plot_model function generates a graphical representation of the model architecture, while the fit function trains the model. The training history is stored in the history_dict, and the accuracy and loss plots are displayed using Matplotlib.\n",
        "\n",
        "\n",
        "\n",
        "\n",
        "\n"
      ],
      "metadata": {
        "id": "pkks5kqzloIv"
      }
    },
    {
      "cell_type": "code",
      "source": [
        "from keras.utils import plot_model\n",
        "plot_model(network, to_file='model.png')\n",
        "import matplotlib.pyplot as plt\n",
        "history =network.fit(train_images, train_labels, validation_split=0.33,epochs=5, batch_size=512)\n",
        "history_dict = history.history\n",
        "print(history_dict.keys())\n",
        "plt.plot(history.history['accuracy'])\n",
        "plt.plot(history.history['val_accuracy'])\n",
        "plt.title('Model accuracy')\n",
        "plt.ylabel('Accuracy')\n",
        "plt.xlabel('Epoch')\n",
        "plt.legend(['Train', 'Test'], loc='upper left')\n",
        "plt.show()\n",
        "\n",
        "\n",
        "# Plot training & validation loss values\n",
        "plt.plot(history.history['loss'])\n",
        "plt.plot(history.history['val_loss'])\n",
        "plt.title('Model loss')\n",
        "plt.ylabel('Loss')\n",
        "plt.xlabel('Epoch')\n",
        "plt.legend(['Train', 'Test'], loc='upper left')\n",
        "plt.show()\n"
      ],
      "metadata": {
        "colab": {
          "base_uri": "https://localhost:8080/",
          "height": 1000
        },
        "id": "3vpftWmpo195",
        "outputId": "edafcc0c-d96e-42fd-f6bf-cef74b568825"
      },
      "execution_count": null,
      "outputs": [
        {
          "output_type": "stream",
          "name": "stdout",
          "text": [
            "Epoch 1/5\n",
            "79/79 [==============================] - 1s 13ms/step - loss: 0.6900 - accuracy: 0.8183 - val_loss: 0.6728 - val_accuracy: 0.8212\n",
            "Epoch 2/5\n",
            "79/79 [==============================] - 1s 8ms/step - loss: 0.6879 - accuracy: 0.8190 - val_loss: 0.6707 - val_accuracy: 0.8220\n",
            "Epoch 3/5\n",
            "79/79 [==============================] - 0s 6ms/step - loss: 0.6857 - accuracy: 0.8198 - val_loss: 0.6687 - val_accuracy: 0.8226\n",
            "Epoch 4/5\n",
            "79/79 [==============================] - 0s 6ms/step - loss: 0.6836 - accuracy: 0.8208 - val_loss: 0.6667 - val_accuracy: 0.8235\n",
            "Epoch 5/5\n",
            "79/79 [==============================] - 0s 6ms/step - loss: 0.6815 - accuracy: 0.8218 - val_loss: 0.6648 - val_accuracy: 0.8241\n",
            "dict_keys(['loss', 'accuracy', 'val_loss', 'val_accuracy'])\n"
          ]
        },
        {
          "output_type": "display_data",
          "data": {
            "text/plain": [
              "<Figure size 640x480 with 1 Axes>"
            ],
            "image/png": "[encoded data removed]"
          },
          "metadata": {}
        },
        {
          "output_type": "display_data",
          "data": {
            "text/plain": [
              "<Figure size 640x480 with 1 Axes>"
            ],
            "image/png": "[encoded data removed]"
          },
          "metadata": {}
        }
      ]
    }
  ]
}